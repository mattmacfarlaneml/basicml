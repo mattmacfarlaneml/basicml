{
  "nbformat": 4,
  "nbformat_minor": 0,
  "metadata": {
    "colab": {
      "private_outputs": true,
      "provenance": [],
      "machine_shape": "hm",
      "authorship_tag": "ABX9TyNbOqeJlQYCEXTnT72IrKA2",
      "include_colab_link": true
    },
    "kernelspec": {
      "name": "python3",
      "display_name": "Python 3"
    },
    "language_info": {
      "name": "python"
    },
    "accelerator": "GPU",
    "gpuClass": "premium"
  },
  "cells": [
    {
      "cell_type": "markdown",
      "metadata": {
        "id": "view-in-github",
        "colab_type": "text"
      },
      "source": [
        "<a href=\"https://colab.research.google.com/github/mattmacfarlaneml/basicml/blob/main/mnist_convolved.ipynb\" target=\"_parent\"><img src=\"https://colab.research.google.com/assets/colab-badge.svg\" alt=\"Open In Colab\"/></a>"
      ]
    },
    {
      "cell_type": "code",
      "source": [
        "# interesting preliminary results. it seems as if we've managed to \n",
        "# 1. convolve a dataset of mnist handwritten digits into a new dataset, \n",
        "# 2. we've used that new dataset mnist_convolved_3x3 to train and test a \n",
        "# neural network solved to solve our convolved mnist dataset, \n",
        "# tested against data from also convolved mnist dataset test dataset.\n",
        "# 3. we in fact can solve mnist from this new dataset arriving at accuracy greater than 97%"
      ],
      "metadata": {
        "id": "OyhSGWxIgUNR"
      },
      "execution_count": null,
      "outputs": []
    },
    {
      "cell_type": "code",
      "execution_count": null,
      "metadata": {
        "id": "WK4mJTVefF0_"
      },
      "outputs": [],
      "source": [
        "import cv2\n",
        "import numpy as np\n",
        "import tensorflow as tf\n",
        "from tensorflow import keras\n",
        "\n",
        "# Load the MNIST dataset\n",
        "(X_train, y_train), (X_test, y_test) = tf.keras.datasets.mnist.load_data()\n",
        "\n",
        "# Preprocess the data\n",
        "X_train = X_train.astype(np.float32) / 255.0\n",
        "X_test = X_test.astype(np.float32) / 255.0\n",
        "\n",
        "# Create the kernel for the convolution\n",
        "kernel = np.ones((3, 3), dtype=np.float32)\n",
        "\n",
        "# Convolve the images in the training set\n",
        "X_train_convolved = np.empty_like(X_train)\n",
        "for i, image in enumerate(X_train):\n",
        "    X_train_convolved[i] = cv2.filter2D(image, -1, kernel)\n",
        "\n",
        "# Convolve the images in the test set\n",
        "X_test_convolved = np.empty_like(X_test)\n",
        "for i, image in enumerate(X_test):\n",
        "    X_test_convolved[i] = cv2.filter2D(image, -1, kernel)\n",
        "\n",
        "# Create the new dataset\n",
        "mnist_convolved_3x3 = (X_train_convolved, y_train), (X_test_convolved, y_test)\n"
      ]
    },
    {
      "cell_type": "code",
      "source": [
        "mnist_convolved_3x3\n",
        "# this is our new dataset"
      ],
      "metadata": {
        "id": "fh9br4EnfJ4T"
      },
      "execution_count": null,
      "outputs": []
    },
    {
      "cell_type": "code",
      "source": [
        "(x_train, y_train), (x_test, y_test) = mnist_convolved_3x3"
      ],
      "metadata": {
        "id": "hCDO1fu8fUGy"
      },
      "execution_count": null,
      "outputs": []
    },
    {
      "cell_type": "code",
      "source": [
        "x_train.shape"
      ],
      "metadata": {
        "id": "H8UIXCzMfrk-"
      },
      "execution_count": null,
      "outputs": []
    },
    {
      "cell_type": "code",
      "source": [
        "y_train.shape"
      ],
      "metadata": {
        "id": "nTZNmnBvfsx_"
      },
      "execution_count": null,
      "outputs": []
    },
    {
      "cell_type": "code",
      "source": [
        "# Preprocess the data\n",
        "x_train = x_train.astype(np.float32) / 255.0\n",
        "x_test = x_test.astype(np.float32) / 255.0\n",
        "\n",
        "# One-hot encode the labels\n",
        "y_train = keras.utils.to_categorical(y_train)\n",
        "y_test = keras.utils.to_categorical(y_test)\n",
        "\n",
        "# Define the model\n",
        "model = keras.Sequential([\n",
        "    keras.layers.Reshape(target_shape=(28 * 28,), input_shape=(28, 28)),\n",
        "    keras.layers.Dense(units=256, activation='relu'),\n",
        "    keras.layers.Dense(units=256, activation='relu'),\n",
        "    keras.layers.Dense(units=10, activation='softmax')\n",
        "])\n",
        "\n",
        "# Compile the model\n",
        "model.compile(optimizer='adam', loss='categorical_crossentropy', metrics=['accuracy'])\n",
        "\n",
        "# Train the model\n",
        "model.fit(x_train, y_train, epochs=10, batch_size=64)\n",
        "\n",
        "# Evaluate the model on the test set\n",
        "test_loss, test_acc = model.evaluate(x_test, y_test, return_dict=True)\n",
        "print('Test loss:', test_loss)\n",
        "print('Test accuracy:', test_acc)\n"
      ],
      "metadata": {
        "id": "WxJ71QalfwJk"
      },
      "execution_count": null,
      "outputs": []
    },
    {
      "cell_type": "code",
      "source": [
        "### NOTE TO SELF: REWRITE ABOVE"
      ],
      "metadata": {
        "id": "I7Urf83XhXmY"
      },
      "execution_count": null,
      "outputs": []
    },
    {
      "cell_type": "code",
      "source": [],
      "metadata": {
        "id": "gUvPLSq-hQIk"
      },
      "execution_count": null,
      "outputs": []
    }
  ]
}